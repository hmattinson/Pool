{
 "cells": [
  {
   "cell_type": "code",
   "execution_count": 28,
   "metadata": {},
   "outputs": [],
   "source": [
    "from trueskill import Rating, rate_1vs1, TrueSkill"
   ]
  },
  {
   "cell_type": "code",
   "execution_count": 29,
   "metadata": {},
   "outputs": [],
   "source": [
    "env = TrueSkill(draw_probability=0)"
   ]
  },
  {
   "cell_type": "code",
   "execution_count": 30,
   "metadata": {},
   "outputs": [],
   "source": [
    "players = ['henry','ryan','ben','kieran','guyon','kahloon']"
   ]
  },
  {
   "cell_type": "code",
   "execution_count": 31,
   "metadata": {},
   "outputs": [],
   "source": [
    "ratings = {player:Rating() for player in players}"
   ]
  },
  {
   "cell_type": "code",
   "execution_count": 37,
   "metadata": {},
   "outputs": [],
   "source": [
    "matches = [r.split(',') for r in open(\"results.txt\", \"r\").read().split('\\n')]"
   ]
  },
  {
   "cell_type": "code",
   "execution_count": 38,
   "metadata": {},
   "outputs": [],
   "source": [
    "for [winner,loser] in matches:\n",
    "    (ratings[winner],ratings[loser]) = rate_1vs1(ratings[winner], ratings[loser], drawn=False, min_delta=0.0001, env=env)"
   ]
  },
  {
   "cell_type": "code",
   "execution_count": 39,
   "metadata": {},
   "outputs": [],
   "source": [
    "leaderboard = sorted(players, reverse=True, key=lambda x : ratings[x].mu)"
   ]
  },
  {
   "cell_type": "code",
   "execution_count": 40,
   "metadata": {},
   "outputs": [
    {
     "name": "stdout",
     "output_type": "stream",
     "text": [
      "kieran: 41.7534937427\n",
      "henry: 32.4713832192\n",
      "ryan: 22.6284308945\n",
      "ben: 20.7571847159\n",
      "guyon: 19.7473784414\n",
      "kahloon: 8.55923116138\n"
     ]
    }
   ],
   "source": [
    "data = {'leaders':[]}\n",
    "for i,p in enumerate(leaderboard):\n",
    "    data['leaders'].append({'id':i+1,'name':p,'score':ratings[p].mu})\n",
    "    print(p + ': ' + str(ratings[p].mu))"
   ]
  },
  {
   "cell_type": "code",
   "execution_count": 41,
   "metadata": {},
   "outputs": [
    {
     "data": {
      "text/plain": [
       "{'leaders': [{'id': 1, 'name': 'kieran', 'score': 41.75349374274383},\n",
       "  {'id': 2, 'name': 'henry', 'score': 32.471383219225395},\n",
       "  {'id': 3, 'name': 'ryan', 'score': 22.628430894506092},\n",
       "  {'id': 4, 'name': 'ben', 'score': 20.75718471587435},\n",
       "  {'id': 5, 'name': 'guyon', 'score': 19.747378441400745},\n",
       "  {'id': 6, 'name': 'kahloon', 'score': 8.559231161375877}]}"
      ]
     },
     "execution_count": 41,
     "metadata": {},
     "output_type": "execute_result"
    }
   ],
   "source": [
    "data"
   ]
  },
  {
   "cell_type": "code",
   "execution_count": 42,
   "metadata": {},
   "outputs": [
    {
     "data": {
      "text/plain": [
       "{'ben': trueskill.Rating(mu=20.757, sigma=1.761),\n",
       " 'guyon': trueskill.Rating(mu=19.747, sigma=1.386),\n",
       " 'henry': trueskill.Rating(mu=32.471, sigma=2.124),\n",
       " 'kahloon': trueskill.Rating(mu=8.559, sigma=2.959),\n",
       " 'kieran': trueskill.Rating(mu=41.753, sigma=2.942),\n",
       " 'ryan': trueskill.Rating(mu=22.628, sigma=1.411)}"
      ]
     },
     "execution_count": 42,
     "metadata": {},
     "output_type": "execute_result"
    }
   ],
   "source": [
    "ratings"
   ]
  },
  {
   "cell_type": "code",
   "execution_count": 24,
   "metadata": {},
   "outputs": [],
   "source": [
    "import json"
   ]
  },
  {
   "cell_type": "code",
   "execution_count": 25,
   "metadata": {},
   "outputs": [],
   "source": [
    "with open('data.json', 'w') as fp:\n",
    "    json.dump(data, fp)"
   ]
  },
  {
   "cell_type": "code",
   "execution_count": 44,
   "metadata": {},
   "outputs": [
    {
     "data": {
      "text/plain": [
       "'{\"leaders\": [{\"score\": 34.6805641168771, \"id\": 1, \"name\": \"kieran\"}, {\"score\": 29.621913180598032, \"id\": 2, \"name\": \"henry\"}, {\"score\": 24.350026563478313, \"id\": 3, \"name\": \"ryan\"}, {\"score\": 20.953863377489522, \"id\": 4, \"name\": \"ben\"}, {\"score\": 20.74030109805952, \"id\": 5, \"name\": \"guyon\"}, {\"score\": 15.605314165011588, \"id\": 6, \"name\": \"kahloon\"}]}'"
      ]
     },
     "execution_count": 44,
     "metadata": {},
     "output_type": "execute_result"
    }
   ],
   "source": [
    "open('data.json','r').read()"
   ]
  },
  {
   "cell_type": "code",
   "execution_count": null,
   "metadata": {},
   "outputs": [],
   "source": []
  }
 ],
 "metadata": {
  "kernelspec": {
   "display_name": "Python [conda env:anaconda]",
   "language": "python",
   "name": "conda-env-anaconda-py"
  },
  "language_info": {
   "codemirror_mode": {
    "name": "ipython",
    "version": 2
   },
   "file_extension": ".py",
   "mimetype": "text/x-python",
   "name": "python",
   "nbconvert_exporter": "python",
   "pygments_lexer": "ipython2",
   "version": "2.7.15"
  }
 },
 "nbformat": 4,
 "nbformat_minor": 2
}
